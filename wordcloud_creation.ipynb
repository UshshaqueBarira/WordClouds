{
 "cells": [
  {
   "cell_type": "code",
   "execution_count": 1,
   "id": "660a97b9-e40e-4613-b289-a298e607bd7e",
   "metadata": {},
   "outputs": [
    {
     "name": "stdout",
     "output_type": "stream",
     "text": [
      "Collecting wordcloud\n",
      "  Downloading wordcloud-1.8.1-cp37-cp37m-manylinux1_x86_64.whl (366 kB)\n",
      "\u001b[K     |████████████████████████████████| 366 kB 4.3 MB/s eta 0:00:01\n",
      "\u001b[?25hRequirement already satisfied: matplotlib in /srv/conda/envs/notebook/lib/python3.7/site-packages (from wordcloud) (3.1.3)\n",
      "Requirement already satisfied: numpy>=1.6.1 in /srv/conda/envs/notebook/lib/python3.7/site-packages (from wordcloud) (1.21.1)\n",
      "Requirement already satisfied: pillow in /srv/conda/envs/notebook/lib/python3.7/site-packages (from wordcloud) (8.3.1)\n",
      "Requirement already satisfied: python-dateutil>=2.1 in /srv/conda/envs/notebook/lib/python3.7/site-packages (from matplotlib->wordcloud) (2.8.1)\n",
      "Requirement already satisfied: kiwisolver>=1.0.1 in /srv/conda/envs/notebook/lib/python3.7/site-packages (from matplotlib->wordcloud) (1.3.1)\n",
      "Requirement already satisfied: cycler>=0.10 in /srv/conda/envs/notebook/lib/python3.7/site-packages (from matplotlib->wordcloud) (0.10.0)\n",
      "Requirement already satisfied: pyparsing!=2.0.4,!=2.1.2,!=2.1.6,>=2.0.1 in /srv/conda/envs/notebook/lib/python3.7/site-packages (from matplotlib->wordcloud) (2.4.7)\n",
      "Requirement already satisfied: six in /srv/conda/envs/notebook/lib/python3.7/site-packages (from cycler>=0.10->matplotlib->wordcloud) (1.15.0)\n",
      "Installing collected packages: wordcloud\n",
      "Successfully installed wordcloud-1.8.1\n",
      "Note: you may need to restart the kernel to use updated packages.\n"
     ]
    }
   ],
   "source": [
    "pip install wordcloud"
   ]
  },
  {
   "cell_type": "code",
   "execution_count": 3,
   "id": "1d101a0c-72dc-4946-acb5-600bcd62ddc1",
   "metadata": {},
   "outputs": [],
   "source": [
    "import matplotlib.pyplot as plt\n",
    "from wordcloud import WordCloud, STOPWORDS\n",
    "import sys, os\n",
    "os.chdir(sys.path[0])"
   ]
  },
  {
   "cell_type": "code",
   "execution_count": 5,
   "id": "a98481bc-db71-4956-901c-65be06cfa70b",
   "metadata": {},
   "outputs": [
    {
     "name": "stdout",
     "output_type": "stream",
     "text": [
      "{'if', 'yourself', 'what', 'are', 'about', 'r', 'from', 'com', \"hadn't\", \"we'd\", \"i'll\", \"i'm\", \"they're\", 'this', 'hers', \"why's\", 'me', \"didn't\", \"mustn't\", \"you'd\", 'ought', 'nor', 'cannot', 'too', 'your', 'my', 'to', 'against', 'any', \"she's\", 'by', 'at', 'a', 'were', 'an', \"how's\", 'i', 'some', 'they', 'was', 'most', 'so', 'these', 'there', 'also', 'being', 'itself', 'while', 'should', \"they'll\", 'before', 'herself', 'on', 'have', 'otherwise', 'again', 'over', 'above', \"where's\", \"they've\", 'its', 'him', 'such', 'who', 'theirs', 'else', \"isn't\", 'be', 'for', 'during', 'both', 'few', 'further', 'all', 'into', 'very', \"hasn't\", \"let's\", 'he', 'until', \"here's\", 'is', 'them', 'only', \"wouldn't\", 'up', 'can', 'would', \"shouldn't\", 'yours', \"that's\", 'ourselves', 'as', 'more', 'or', \"she'll\", 'off', 'with', 'whom', \"don't\", \"you've\", 'why', 'ever', 'it', 'his', 'do', 'here', \"you'll\", \"couldn't\", 'once', 'but', \"there's\", 'after', 'been', 'http', 'like', 'just', \"he's\", \"shan't\", 'since', 'you', \"we're\", 'in', 'those', 'shall', \"she'd\", 'yourselves', 'because', \"aren't\", \"doesn't\", 'having', 'each', 'under', \"they'd\", 'however', 'had', 'she', 'out', 'that', 'our', 'therefore', 'themselves', \"i'd\", 'same', 'then', 'than', 'of', 'between', 'own', 'we', \"he'd\", 'could', 'where', 'and', 'does', 'doing', 'her', 'down', 'am', 'get', 'no', 'ours', 'through', 'the', 'which', 'hence', \"you're\", 'himself', 'k', \"when's\", 'myself', \"he'll\", \"it's\", 'how', 'has', \"we'll\", \"won't\", \"weren't\", 'did', 'www', \"i've\", 'other', \"who's\", 'when', \"wasn't\", 'their', \"can't\", 'below', \"we've\", \"haven't\", 'not', \"what's\"}\n"
     ]
    }
   ],
   "source": [
    "text=open('sample.text',mode='r',encoding='utf-8').read()\n",
    "stopwords=STOPWORDS\n",
    "print(stopwords)"
   ]
  },
  {
   "cell_type": "code",
   "execution_count": 9,
   "id": "5e9c624d-ca1c-4d3b-8956-46579fea2c7e",
   "metadata": {},
   "outputs": [
    {
     "data": {
      "text/plain": [
       "<wordcloud.wordcloud.WordCloud at 0x7f8fd421e5d0>"
      ]
     },
     "execution_count": 9,
     "metadata": {},
     "output_type": "execute_result"
    }
   ],
   "source": [
    "wc=WordCloud(background_color='White',\n",
    "             stopwords=stopwords,\n",
    "             height=600,\n",
    "             width=400)\n",
    "wc.generate(text)\n",
    "wc.to_file('wordcloud_output.png')"
   ]
  }
 ],
 "metadata": {
  "kernelspec": {
   "display_name": "Python 3",
   "language": "python",
   "name": "python3"
  },
  "language_info": {
   "codemirror_mode": {
    "name": "ipython",
    "version": 3
   },
   "file_extension": ".py",
   "mimetype": "text/x-python",
   "name": "python",
   "nbconvert_exporter": "python",
   "pygments_lexer": "ipython3",
   "version": "3.7.8"
  }
 },
 "nbformat": 4,
 "nbformat_minor": 5
}
