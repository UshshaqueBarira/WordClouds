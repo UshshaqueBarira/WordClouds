{
 "cells": [
  {
   "cell_type": "code",
   "execution_count": 1,
   "id": "72b467ca-5533-4132-8a42-3ebce14d8e02",
   "metadata": {},
   "outputs": [
    {
     "name": "stdout",
     "output_type": "stream",
     "text": [
      "Requirement already satisfied: wordCloud in /srv/conda/envs/notebook/lib/python3.7/site-packages (1.8.1)\n",
      "Requirement already satisfied: matplotlib in /srv/conda/envs/notebook/lib/python3.7/site-packages (from wordCloud) (3.1.3)\n",
      "Requirement already satisfied: numpy>=1.6.1 in /srv/conda/envs/notebook/lib/python3.7/site-packages (from wordCloud) (1.21.1)\n",
      "Requirement already satisfied: pillow in /srv/conda/envs/notebook/lib/python3.7/site-packages (from wordCloud) (8.3.1)\n",
      "Requirement already satisfied: cycler>=0.10 in /srv/conda/envs/notebook/lib/python3.7/site-packages (from matplotlib->wordCloud) (0.10.0)\n",
      "Requirement already satisfied: kiwisolver>=1.0.1 in /srv/conda/envs/notebook/lib/python3.7/site-packages (from matplotlib->wordCloud) (1.3.1)\n",
      "Requirement already satisfied: pyparsing!=2.0.4,!=2.1.2,!=2.1.6,>=2.0.1 in /srv/conda/envs/notebook/lib/python3.7/site-packages (from matplotlib->wordCloud) (2.4.7)\n",
      "Requirement already satisfied: python-dateutil>=2.1 in /srv/conda/envs/notebook/lib/python3.7/site-packages (from matplotlib->wordCloud) (2.8.1)\n",
      "Requirement already satisfied: six in /srv/conda/envs/notebook/lib/python3.7/site-packages (from cycler>=0.10->matplotlib->wordCloud) (1.15.0)\n",
      "Note: you may need to restart the kernel to use updated packages.\n"
     ]
    }
   ],
   "source": [
    "pip install wordCloud"
   ]
  },
  {
   "cell_type": "code",
   "execution_count": 3,
   "id": "9a8bf836-3f82-496b-92e0-aee6d837bbc1",
   "metadata": {},
   "outputs": [],
   "source": [
    "import matplotlib.pyplot as plt\n",
    "from wordcloud import WordCloud, STOPWORDS\n",
    "import sys,os\n",
    "os.chdir(sys.path[0])"
   ]
  },
  {
   "cell_type": "code",
   "execution_count": 4,
   "id": "84f9a503-eeef-40f6-b87b-99f783aaf13b",
   "metadata": {},
   "outputs": [
    {
     "name": "stdout",
     "output_type": "stream",
     "text": [
      "{'about', 'in', 'k', 'these', 'herself', 'so', 'your', 'have', 'under', 'com', 'yourself', 'between', 'otherwise', 'all', 'those', 'been', \"she's\", 'an', 'were', 'themselves', 'which', 'being', 'such', \"wasn't\", \"haven't\", 'had', 'who', \"i'll\", 'out', 'how', 'this', 'because', 'then', 'what', \"there's\", 'too', 'from', 'http', \"i'd\", 'did', 'hers', 'by', 'than', \"it's\", 'we', 'when', \"we've\", \"we're\", \"you've\", 'above', \"they're\", 'into', 'whom', \"we'll\", \"when's\", \"won't\", 'they', \"why's\", 'you', \"didn't\", 'yourselves', \"he's\", 'where', 'else', \"isn't\", 'to', 'r', 'my', \"hasn't\", \"they'd\", \"he'd\", 'only', 'until', \"shouldn't\", 'and', 'any', 'while', 'since', 'if', 'further', 'through', 'could', 'like', \"can't\", 'him', 'against', 'be', 'the', 'yours', \"that's\", 'it', 'i', \"where's\", 'up', 'over', \"she'll\", 'theirs', 'more', 'our', 'not', 'same', \"you're\", 'just', 'can', 'few', 'would', 'each', 'here', \"couldn't\", 'most', \"they'll\", 'its', 'on', 'his', 'is', 'do', 'hence', 'as', 'ourselves', 'during', 'am', \"they've\", \"let's\", 'was', 'www', 'ever', 'after', \"how's\", 'get', 'for', \"who's\", 'once', \"she'd\", 'however', \"weren't\", 'below', 'myself', 'she', 'that', 'before', 'ours', \"shan't\", 'me', 'but', 'itself', \"i'm\", 'with', 'very', 'also', 'her', \"wouldn't\", \"you'll\", 'again', 'own', 'some', 'down', \"here's\", 'them', \"he'll\", 'off', \"we'd\", 'both', 'doing', \"what's\", 'why', 'no', 'should', 'has', \"i've\", 'nor', 'their', 'himself', \"mustn't\", \"you'd\", 'at', 'does', 'a', 'there', 'shall', \"hadn't\", \"don't\", 'ought', 'he', 'having', 'therefore', 'are', 'cannot', 'or', 'of', \"doesn't\", \"aren't\", 'other'}\n"
     ]
    }
   ],
   "source": [
    "stopwords=STOPWORDS\n",
    "print(stopwords)"
   ]
  },
  {
   "cell_type": "code",
   "execution_count": 5,
   "id": "d657d8bc-7d21-4079-95c2-4d90c4adfd5d",
   "metadata": {},
   "outputs": [],
   "source": [
    "text=open('ThousandYears.txt',mode='r',encoding='utf-8').read()"
   ]
  },
  {
   "cell_type": "code",
   "execution_count": 13,
   "id": "e142f946-b168-4fe2-874e-bcc32bdf2e7f",
   "metadata": {},
   "outputs": [
    {
     "data": {
      "text/plain": [
       "<wordcloud.wordcloud.WordCloud at 0x7f3d45d30610>"
      ]
     },
     "execution_count": 13,
     "metadata": {},
     "output_type": "execute_result"
    }
   ],
   "source": [
    "wc=WordCloud(background_color='black',\n",
    "             stopwords=stopwords,\n",
    "             height=400,\n",
    "             width=1000)\n",
    "wc.generate(text)\n",
    "\n",
    "             "
   ]
  },
  {
   "cell_type": "code",
   "execution_count": 15,
   "id": "e5e0d772-52a7-4c73-9778-9f226c15ddc6",
   "metadata": {},
   "outputs": [
    {
     "data": {
      "text/plain": [
       "<wordcloud.wordcloud.WordCloud at 0x7f3d45d30610>"
      ]
     },
     "execution_count": 15,
     "metadata": {},
     "output_type": "execute_result"
    }
   ],
   "source": [
    "wc.to_file('wordcloud_1000_Years.png')"
   ]
  }
 ],
 "metadata": {
  "kernelspec": {
   "display_name": "Python 3",
   "language": "python",
   "name": "python3"
  },
  "language_info": {
   "codemirror_mode": {
    "name": "ipython",
    "version": 3
   },
   "file_extension": ".py",
   "mimetype": "text/x-python",
   "name": "python",
   "nbconvert_exporter": "python",
   "pygments_lexer": "ipython3",
   "version": "3.7.8"
  }
 },
 "nbformat": 4,
 "nbformat_minor": 5
}
